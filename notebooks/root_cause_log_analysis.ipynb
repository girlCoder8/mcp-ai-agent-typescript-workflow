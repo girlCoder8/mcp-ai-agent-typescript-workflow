{
 "cells": [
  {
   "metadata": {},
   "cell_type": "code",
   "outputs": [],
   "execution_count": null,
   "source": [
    "import pandas as pd\n",
    "from sklearn.ensemble import IsolationForest\n",
    "import matplotlib.pyplot as plt"
   ],
   "id": "ab37b069489a46d9"
  },
  {
   "cell_type": "code",
   "execution_count": null,
   "id": "initial_id",
   "metadata": {
    "collapsed": true
   },
   "outputs": [],
   "source": [
    "# 1. Load system logs\n",
    "logs = pd.read_csv(\"data/chaos/fault-patterns/system_logs.csv\") # Adapt path\n",
    "print(logs.head())"
   ]
  },
  {
   "metadata": {},
   "cell_type": "code",
   "outputs": [],
   "execution_count": null,
   "source": [
    "# 2. Feature engineering (simple example)\n",
    "features = logs[['error_level', 'response_time', 'cpu_usage']]  # adjust columns"
   ],
   "id": "8eddcdb06b7a0b26"
  },
  {
   "metadata": {},
   "cell_type": "code",
   "outputs": [],
   "execution_count": null,
   "source": [
    "# 3. Anomaly detection\n",
    "clf = IsolationForest(contamination=0.1)\n",
    "logs['anomaly'] = clf.fit_predict(features)"
   ],
   "id": "e59d30d7c325ef99"
  },
  {
   "metadata": {},
   "cell_type": "code",
   "outputs": [],
   "execution_count": null,
   "source": [
    "# 4. Visualize\n",
    "plt.scatter(logs.index, logs['response_time'], c=logs['anomaly'], cmap='coolwarm')\n",
    "plt.title('Response Time Anomalies')\n",
    "plt.show()"
   ],
   "id": "6726605b5bb8dba4"
  },
  {
   "metadata": {},
   "cell_type": "code",
   "outputs": [],
   "execution_count": null,
   "source": [
    "# 5. Root cause summarization (placeholder for LLM integration)\n",
    "def summarize_incident(log_snippet):\n",
    "    prompt = f\"System log root cause analysis: {log_snippet}\"\n",
    "    # call openai or in-house LLM\n",
    "    return \"Likely root cause: Service X crashed due to memory leak.\"\n",
    "\n",
    "sample_log = logs.iloc[0].to_dict()\n",
    "root_cause = summarize_incident(sample_log)\n",
    "print(root_cause)"
   ],
   "id": "3431f7cc4d715ba7"
  }
 ],
 "metadata": {
  "kernelspec": {
   "display_name": "Python 3",
   "language": "python",
   "name": "python3"
  },
  "language_info": {
   "codemirror_mode": {
    "name": "ipython",
    "version": 2
   },
   "file_extension": ".py",
   "mimetype": "text/x-python",
   "name": "python",
   "nbconvert_exporter": "python",
   "pygments_lexer": "ipython2",
   "version": "2.7.6"
  }
 },
 "nbformat": 4,
 "nbformat_minor": 5
}
