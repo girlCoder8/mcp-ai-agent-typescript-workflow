{
 "cells": [
  {
   "metadata": {},
   "cell_type": "code",
   "source": [
    "# Automated Code Review with LLM\n",
    "\n",
    "import openai\n",
    "\n",
    "def review_code(code, model=\"gpt-4\"):\n",
    "    prompt = f\"Review this code for style and security issues:\\n{code}\"\n",
    "    response = openai.ChatCompletion.create(\n",
    "        model=model,\n",
    "        messages=[\n",
    "            {\"role\": \"user\", \"content\": prompt}\n",
    "        ]\n",
    "    )\n",
    "    return response['choices'][0]['message']['content']\n",
    "\n",
    "example_code = \"\"\"\n",
    "def add_items(items):\n",
    "    for item in items:\n",
    "        print(item)\n",
    "\"\"\"\n",
    "review = review_code(example_code)\n",
    "print(\"Code Review:\\n\", review)"
   ],
   "id": "49dac097c694a684",
   "outputs": [],
   "execution_count": null
  }
 ],
 "metadata": {
  "kernelspec": {
   "display_name": "Python 3",
   "language": "python",
   "name": "python3"
  },
  "language_info": {
   "codemirror_mode": {
    "name": "ipython",
    "version": 2
   },
   "file_extension": ".py",
   "mimetype": "text/x-python",
   "name": "python",
   "nbconvert_exporter": "python",
   "pygments_lexer": "ipython2",
   "version": "2.7.6"
  }
 },
 "nbformat": 4,
 "nbformat_minor": 5
}
