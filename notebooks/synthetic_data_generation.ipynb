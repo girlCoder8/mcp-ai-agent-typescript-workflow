{
 "cells": [
  {
   "cell_type": "code",
   "execution_count": null,
   "id": "initial_id",
   "metadata": {
    "collapsed": true
   },
   "outputs": [],
   "source": [
    "# Synthetic Data Generator & Validator\n",
    "\n",
    "from sdv.tabular import CTGAN\n",
    "import pandas as pd\n",
    "\n",
    "# 1. Load real data (substitute correct path)\n",
    "real_data = pd.read_csv(\"data/synthetic/generated-datasets/prod.csv\")\n",
    "print(real_data.head())"
   ]
  },
  {
   "metadata": {},
   "cell_type": "code",
   "outputs": [],
   "execution_count": null,
   "source": [
    "# 2. Train CTGAN\n",
    "model = CTGAN()\n",
    "model.fit(real_data)"
   ],
   "id": "f21fae620d569995"
  },
  {
   "metadata": {},
   "cell_type": "code",
   "outputs": [],
   "execution_count": null,
   "source": [
    "# 3. Generate synthetic data\n",
    "synthetic_data = model.sample(len(real_data))\n",
    "print(synthetic_data.head())"
   ],
   "id": "56f4eac05a4f40ad"
  },
  {
   "metadata": {},
   "cell_type": "code",
   "outputs": [],
   "execution_count": null,
   "source": [
    "# 4. Statistical validation\n",
    "from scipy.stats import ks_2samp\n",
    "\n",
    "for col in real_data.select_dtypes(include='number'):\n",
    "    stat, pval = ks_2samp(real_data[col], synthetic_data[col])\n",
    "    print(f'Column: {col}, KS-test p-value: {pval}')"
   ],
   "id": "4afd0c113b9057ed"
  },
  {
   "metadata": {},
   "cell_type": "code",
   "outputs": [],
   "execution_count": null,
   "source": [
    "# 5. Optionally, NER for PII (use spaCy)\n",
    "import spacy\n",
    "nlp = spacy.load(\"en_core_web_sm\")\n",
    "doc = nlp(str(real_data.sample(1)))\n",
    "\n",
    "pii = [ent for ent in doc.ents if ent.label_ in ('PERSON', 'ORG', 'GPE', 'EMAIL', 'CARDINAL')]\n",
    "print(\"PII Entities:\", pii)"
   ],
   "id": "97bd4c233fef9217"
  }
 ],
 "metadata": {
  "kernelspec": {
   "display_name": "Python 3",
   "language": "python",
   "name": "python3"
  },
  "language_info": {
   "codemirror_mode": {
    "name": "ipython",
    "version": 2
   },
   "file_extension": ".py",
   "mimetype": "text/x-python",
   "name": "python",
   "nbconvert_exporter": "python",
   "pygments_lexer": "ipython2",
   "version": "2.7.6"
  }
 },
 "nbformat": 4,
 "nbformat_minor": 5
}
